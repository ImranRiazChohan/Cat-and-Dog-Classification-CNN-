{
  "nbformat": 4,
  "nbformat_minor": 0,
  "metadata": {
    "colab": {
      "name": "Cat and Dog Classification(CNN).ipynb",
      "provenance": [],
      "private_outputs": true,
      "collapsed_sections": [],
      "mount_file_id": "1a09QoKhTD9-E-neC0KfbLMg6zbdRt-0g",
      "authorship_tag": "ABX9TyNo0lo8baPsOId7ABLsnpXG",
      "include_colab_link": true
    },
    "kernelspec": {
      "name": "python3",
      "display_name": "Python 3"
    },
    "accelerator": "GPU"
  },
  "cells": [
    {
      "cell_type": "markdown",
      "metadata": {
        "id": "view-in-github",
        "colab_type": "text"
      },
      "source": [
        "<a href=\"https://colab.research.google.com/github/ImranRiazChohan/Cat-and-Dog-Classification-CNN-/blob/master/Cat_and_Dog_Classification(CNN).ipynb\" target=\"_parent\"><img src=\"https://colab.research.google.com/assets/colab-badge.svg\" alt=\"Open In Colab\"/></a>"
      ]
    },
    {
      "cell_type": "markdown",
      "metadata": {
        "id": "B_PB-coP5YWo",
        "colab_type": "text"
      },
      "source": [
        "IMPORT SOME USEFULL LIBARARIES\n"
      ]
    },
    {
      "cell_type": "code",
      "metadata": {
        "id": "VoEgbjsZRM4F",
        "colab_type": "code",
        "colab": {}
      },
      "source": [
        "import pandas as pd\n",
        "import numpy as np\n",
        "import tensorflow as tf\n",
        "from tensorflow.keras import models\n",
        "from tensorflow.keras import layers\n",
        "from tensorflow.keras.preprocessing import image\n",
        "from tensorflow.keras.preprocessing.image import ImageDataGenerator\n",
        "import matplotlib.pyplot as plt\n",
        "import os"
      ],
      "execution_count": 0,
      "outputs": []
    },
    {
      "cell_type": "markdown",
      "metadata": {
        "id": "hEdv1SMB5jbI",
        "colab_type": "text"
      },
      "source": [
        "\n",
        "## **Unzip data using python code:**\n",
        "**The following python code will use the OS library, giving you access to the file system, and the zipfile library allowing you to unzip the data.**\n"
      ]
    },
    {
      "cell_type": "code",
      "metadata": {
        "id": "bc6Vqhu7o83S",
        "colab_type": "code",
        "colab": {}
      },
      "source": [
        "import zipfile\n",
        "local_zip = '/content/drive/My Drive/cat-and-dog.zip'\n",
        "\n",
        "zip_ref = zipfile.ZipFile(local_zip, 'r')\n",
        "\n",
        "zip_ref.extractall('/content')\n",
        "zip_ref.close()"
      ],
      "execution_count": 0,
      "outputs": []
    },
    {
      "cell_type": "markdown",
      "metadata": {
        "id": "C4NOgqcD50m2",
        "colab_type": "text"
      },
      "source": [
        "# **Let's define the directories.**\n",
        "\n",
        "### **Dataset containing three subsets: a training set with 1,000 samples of each class, a validation set with 500 samples of each class, and a test set with 500 samples of each class.**"
      ]
    },
    {
      "cell_type": "code",
      "metadata": {
        "id": "1uJ6jZbOqTov",
        "colab_type": "code",
        "colab": {}
      },
      "source": [
        "base_dir=\"/content/cat-and-dog\"\n",
        "test_dir=\"/content/test_set/test_set\"\n",
        "train_dir=\"/content/training_set/training_set\"\n"
      ],
      "execution_count": 0,
      "outputs": []
    },
    {
      "cell_type": "code",
      "metadata": {
        "id": "FcnVGBvDqfAs",
        "colab_type": "code",
        "colab": {}
      },
      "source": [
        "test_dir_cat=os.path.join(test_dir,\"cats\")\n",
        "test_dir_dog=os.path.join(test_dir,\"dogs\")\n",
        "\n",
        "train_dir_cat=os.path.join(train_dir,\"cats\")\n",
        "train_dir_dog=os.path.join(train_dir,\"dogs\")"
      ],
      "execution_count": 0,
      "outputs": []
    },
    {
      "cell_type": "code",
      "metadata": {
        "id": "WxUh4CKYXxov",
        "colab_type": "code",
        "colab": {}
      },
      "source": [
        "train_cat_fnames = os.listdir( train_dir_cat )\n",
        "train_dog_fnames = os.listdir( train_dir_dog )\n",
        "test_cat_fnames = os.listdir( test_dir_cat )\n",
        "test_dog_fnames = os.listdir( test_dir_dog )\n",
        "\n",
        "print(train_cat_fnames[:5])\n",
        "print(train_dog_fnames[:5])\n",
        "print(test_cat_fnames[:5])\n",
        "print(test_dog_fnames[:5]) \n",
        "\n",
        "print(\"Train data Cats: \",len(os.listdir(train_dir_cat)))\n",
        "print(\"Train data Dogs: \",len(os.listdir(train_dir_dog)))\n",
        "\n",
        "print(\"Test Data Cats: \",len(os.listdir(test_dir_dog)))\n",
        "print(\"Test Data Dog: \",len(os.listdir(test_dir_cat))) "
      ],
      "execution_count": 0,
      "outputs": []
    },
    {
      "cell_type": "markdown",
      "metadata": {
        "id": "PAJ7J_am-abX",
        "colab_type": "text"
      },
      "source": [
        "## **Visualizing data:**\n",
        "**Now, display a batch of 8 cat and 8 dog pictures. You can rerun the cell to see a fresh batch each time:**"
      ]
    },
    {
      "cell_type": "code",
      "metadata": {
        "id": "TNLsPw-B6GJS",
        "colab_type": "code",
        "colab": {}
      },
      "source": [
        "import matplotlib.image as mpimg\n",
        "import matplotlib.pyplot as plt\n",
        "\n",
        "# Parameters for our graph; we'll output images in a 4x4 configuration\n",
        "nrows = 4\n",
        "ncols = 4\n",
        "\n",
        "pic_index = 0 # Index for iterating over images\n",
        "# Set up matplotlib fig, and size it to fit 4x4 pics\n",
        "fig = plt.gcf()\n",
        "fig.set_size_inches(ncols*4, nrows*4)\n",
        "\n",
        "pic_index+=8\n",
        "\n",
        "next_cat_pix = [os.path.join(train_dir_cat, fname) \n",
        "                for fname in train_cat_fnames[ pic_index-8:pic_index] \n",
        "               ]\n",
        "\n",
        "next_dog_pix = [os.path.join(train_dir_dog, fname) \n",
        "                for fname in train_dog_fnames[ pic_index-8:pic_index]\n",
        "               ]\n",
        "\n",
        "for i, img_path in enumerate(next_cat_pix+next_dog_pix):\n",
        "  # Set up subplot; subplot indices start at 1\n",
        "  sp = plt.subplot(nrows, ncols, i + 1)\n",
        "  sp.axis('Off') # Don't show axes (or gridlines)\n",
        "\n",
        "  img = mpimg.imread(img_path)\n",
        "  plt.imshow(img)"
      ],
      "execution_count": 0,
      "outputs": []
    },
    {
      "cell_type": "markdown",
      "metadata": {
        "id": "rrP-Para7-3h",
        "colab_type": "text"
      },
      "source": [
        "Create Small Model"
      ]
    },
    {
      "cell_type": "code",
      "metadata": {
        "id": "UhXYecNQZ7qh",
        "colab_type": "code",
        "colab": {}
      },
      "source": [
        "def Create_model():\n",
        "  model=tf.keras.models.Sequential()\n",
        "  model.add(layers.Conv2D(32,(3,3),activation=\"relu\",input_shape=(150,150,3)))\n",
        "  model.add(layers.MaxPool2D(2,2))\n",
        "  model.add(layers.Conv2D(64,(3,3),activation='relu'))\n",
        "  model.add(layers.MaxPool2D(2,2))\n",
        "  model.add(layers.Conv2D(128,(3,3),activation='relu'))\n",
        "  model.add(layers.MaxPool2D(2,2))\n",
        "  model.add(layers.Conv2D(128,(3,3),activation='relu'))\n",
        "\n",
        "  model.add(layers.Flatten())\n",
        "  model.add(layers.Dense(512,activation=\"relu\"))\n",
        "  model.add(layers.Dense(1,activation=\"sigmoid\"))\n",
        "  return model"
      ],
      "execution_count": 0,
      "outputs": []
    },
    {
      "cell_type": "code",
      "metadata": {
        "id": "t8AQqCOfbutm",
        "colab_type": "code",
        "colab": {}
      },
      "source": [
        "model=Create_model()\n",
        "model.summary()"
      ],
      "execution_count": 0,
      "outputs": []
    },
    {
      "cell_type": "markdown",
      "metadata": {
        "id": "txFl9NLJ-x2d",
        "colab_type": "text"
      },
      "source": [
        "### **compile model:**\n",
        "\n",
        "We train our model with the binary_crossentropy loss, because it's a binary classification problem and our final activation is a sigmoid.We will use the rmsprop optimizer with a learning rate of 0.001. During training, we will want to monitor classification accuracy. Using the RMSprop optimization algorithm is preferable to stochastic gradient descent (SGD), because RMSprop automates learning-rate tuning for us. (Other optimizers, such as Adam and Adagrad, also automatically adapt the learning rate during training, and would work equally well here.)"
      ]
    },
    {
      "cell_type": "code",
      "metadata": {
        "id": "qN6KyjuOb19L",
        "colab_type": "code",
        "colab": {}
      },
      "source": [
        "model.compile(tf.keras.optimizers.Adam(1e-4),tf.keras.losses.binary_crossentropy,metrics=['accuracy'])"
      ],
      "execution_count": 0,
      "outputs": []
    },
    {
      "cell_type": "markdown",
      "metadata": {
        "id": "Z2BA3zZT8HA4",
        "colab_type": "text"
      },
      "source": [
        "# **Image Data Processing**\n",
        "Data preprocessing:\n",
        "\n",
        "In keras it can be done via thekeras.preprocessing.image.ImageDataGenerator class using the rescale parameter. This ImageDataGenerator class allows you to instantiate generators of augmented image batches (and their labels) via .flow(data, labels) or .flow_from_directory(directory). These generators can then be used with the Keras model methods that accept data generators as inputs: fit, evaluate_generator, and predict_generator."
      ]
    },
    {
      "cell_type": "code",
      "metadata": {
        "id": "OEnGaJjTcs8T",
        "colab_type": "code",
        "colab": {}
      },
      "source": [
        "train_datagen=ImageDataGenerator(rescale=1.0/255,rotation_range=40,\n",
        "            width_shift_range=0.2,height_shift_range=0.2,\n",
        "            shear_range=0.2,zoom_range=0.2,\n",
        "            horizontal_flip=True,fill_mode=\"nearest\")\n",
        "test_datagen=ImageDataGenerator(rescale=1.0/255)"
      ],
      "execution_count": 0,
      "outputs": []
    },
    {
      "cell_type": "code",
      "metadata": {
        "id": "v3BBNbjzeyVX",
        "colab_type": "code",
        "colab": {}
      },
      "source": [
        "train_gen=train_datagen.flow_from_directory(train_dir,batch_size=20,class_mode=\"binary\",target_size=(150,150))\n",
        "validation_gen=test_datagen.flow_from_directory(test_dir,batch_size=20,class_mode=\"binary\",target_size=(150,150))"
      ],
      "execution_count": 0,
      "outputs": []
    },
    {
      "cell_type": "markdown",
      "metadata": {
        "id": "I8LaeTuK8TDm",
        "colab_type": "text"
      },
      "source": [
        "## **Train Model**"
      ]
    },
    {
      "cell_type": "code",
      "metadata": {
        "id": "eqC0gIJifgw3",
        "colab_type": "code",
        "colab": {}
      },
      "source": [
        "history=model.fit_generator(train_gen,epochs=20,steps_per_epoch=100,validation_data=validation_gen,validation_steps=20)"
      ],
      "execution_count": 0,
      "outputs": []
    },
    {
      "cell_type": "code",
      "metadata": {
        "id": "1biZrR-dgVve",
        "colab_type": "code",
        "colab": {}
      },
      "source": [
        "model.save(\"smallmodel.h5\")"
      ],
      "execution_count": 0,
      "outputs": []
    },
    {
      "cell_type": "markdown",
      "metadata": {
        "id": "_3FVWo7d_S-i",
        "colab_type": "text"
      },
      "source": [
        "## **Evaluating Accuracy and Loss for the Model:**\n",
        "\n",
        "Let's plot the training/validation accuracy and loss as collected during training:"
      ]
    },
    {
      "cell_type": "code",
      "metadata": {
        "id": "ZG5RsL1P_V2h",
        "colab_type": "code",
        "colab": {}
      },
      "source": [
        "accuracy=history.history[\"accuracy\"]\n",
        "loss=history.history['loss']\n",
        "val_accuracy=history.history['val_accuracy']\n",
        "val_loss=history.history['val_loss']\n",
        "epochs=range(len(accuracy))"
      ],
      "execution_count": 0,
      "outputs": []
    },
    {
      "cell_type": "code",
      "metadata": {
        "id": "9BOT2ejp_pRd",
        "colab_type": "code",
        "colab": {}
      },
      "source": [
        "plt.plot(epochs,accuracy)\n",
        "plt.plot(epochs,val_accuracy)\n",
        "plt.title(\"training and validation Accuracy\")\n",
        "plt.show()"
      ],
      "execution_count": 0,
      "outputs": []
    },
    {
      "cell_type": "code",
      "metadata": {
        "id": "Yhm9rvM_AXEG",
        "colab_type": "code",
        "colab": {}
      },
      "source": [
        "plt.plot(epochs,loss)\n",
        "plt.plot(epochs,val_loss)\n",
        "plt.title(\"training and Validation loss\")\n",
        "plt.show()"
      ],
      "execution_count": 0,
      "outputs": []
    },
    {
      "cell_type": "markdown",
      "metadata": {
        "id": "k9KOhz_wBS4u",
        "colab_type": "text"
      },
      "source": [
        "## Create Large Scale Model"
      ]
    },
    {
      "cell_type": "code",
      "metadata": {
        "id": "E2k14e0nBYyO",
        "colab_type": "code",
        "colab": {}
      },
      "source": [
        "def Create_Large_model():\n",
        "  model=tf.keras.models.Sequential()\n",
        "  model.add(layers.Conv2D(32,(3,3),activation=\"relu\",input_shape=(150,150,3)))\n",
        "  model.add(layers.Conv2D(32,(3,3),activation='relu'))\n",
        "  model.add(layers.MaxPool2D(2,2))\n",
        "  model.add(layers.Conv2D(64,(3,3),activation='relu'))\n",
        "  model.add(layers.Conv2D(64,(3,3),activation='relu'))\n",
        "  model.add(layers.MaxPool2D(2,2))\n",
        "  model.add(layers.Conv2D(128,(3,3),activation='relu'))\n",
        "  model.add(layers.Conv2D(128,(3,3),activation='relu'))\n",
        "  model.add(layers.MaxPool2D(2,2))\n",
        "  model.add(layers.Conv2D(256,(3,3),activation='relu'))\n",
        "  model.add(layers.Conv2D(256,(3,3),activation='relu'))\n",
        "  model.add(layers.MaxPool2D(2,2))\n",
        "  model.add(layers.Conv2D(512,(3,3),activation='relu'))\n",
        "  model.add(layers.MaxPool2D(2,2))\n",
        "  model.add(layers.Flatten())\n",
        "  model.add(layers.Dense(512,activation=\"relu\"))\n",
        "  model.add(layers.Dropout(0.2))\n",
        "  model.add(layers.Dense(1,activation=\"sigmoid\"))\n",
        "  return model"
      ],
      "execution_count": 0,
      "outputs": []
    },
    {
      "cell_type": "code",
      "metadata": {
        "id": "JC6V8Oh1CQvT",
        "colab_type": "code",
        "colab": {}
      },
      "source": [
        "large_model=Create_Large_model()\n",
        "large_model.summary()"
      ],
      "execution_count": 0,
      "outputs": []
    },
    {
      "cell_type": "code",
      "metadata": {
        "id": "tnRgax0eEz71",
        "colab_type": "code",
        "colab": {}
      },
      "source": [
        "large_model.compile(optimizer=tf.keras.optimizers.RMSprop(lr=0.0001),loss=\"binary_crossentropy\",metrics=['accuracy'])\n",
        "History=large_model.fit_generator(train_gen,steps_per_epoch=100,epochs=50,validation_data=validation_gen,validation_steps=50)\n"
      ],
      "execution_count": 0,
      "outputs": []
    },
    {
      "cell_type": "code",
      "metadata": {
        "id": "DGQQxvRKGtgc",
        "colab_type": "code",
        "colab": {}
      },
      "source": [
        "Accuracy=History.history[\"accuracy\"]\n",
        "Loss=History.history['loss']\n",
        "Val_accuracy=History.history['val_accuracy']\n",
        "Val_loss=History.history['val_loss']\n",
        "epochs=range(len(Accuracy))"
      ],
      "execution_count": 0,
      "outputs": []
    },
    {
      "cell_type": "code",
      "metadata": {
        "id": "2LXm4PovhYmm",
        "colab_type": "code",
        "colab": {}
      },
      "source": [
        "plt.plot(epochs,Accuracy)\n",
        "plt.plot(epochs,Val_accuracy)\n",
        "plt.title(\"training and validation Accuracy\")\n",
        "plt.show()"
      ],
      "execution_count": 0,
      "outputs": []
    },
    {
      "cell_type": "code",
      "metadata": {
        "id": "GwNPzqxMhdOr",
        "colab_type": "code",
        "colab": {}
      },
      "source": [
        "plt.plot(epochs,Loss)\n",
        "plt.plot(epochs,Val_loss)\n",
        "plt.title(\"training and Validation loss\")\n",
        "plt.show()"
      ],
      "execution_count": 0,
      "outputs": []
    },
    {
      "cell_type": "code",
      "metadata": {
        "id": "mGZFMtcDnt0G",
        "colab_type": "code",
        "colab": {}
      },
      "source": [
        "large_model.save(\"model.h5\")"
      ],
      "execution_count": 0,
      "outputs": []
    },
    {
      "cell_type": "code",
      "metadata": {
        "id": "WYVRXV8doNuP",
        "colab_type": "code",
        "colab": {}
      },
      "source": [
        "from tensorflow.keras.models import load_model\n",
        "model=load_model(\"/content/model.h5\")\n",
        "test_image=image.load_img(\"/content/cat.jpeg\",target_size=(150,150))\n",
        "test_image=image.img_to_array(test_image)\n",
        "test_image=np.expand_dims(test_image,axis=0)\n",
        "result=model.predict(test_image)\n",
        "map=train_gen.class_indices\n",
        "print(map)\n",
        "\n",
        "if result[0][0]>0:\n",
        "    predict='cat'\n",
        "else:\n",
        "    predict='dog'    \n",
        "\n",
        "print(\"this image is:\",predict)"
      ],
      "execution_count": 0,
      "outputs": []
    },
    {
      "cell_type": "code",
      "metadata": {
        "id": "9GBULQvfrwJB",
        "colab_type": "code",
        "colab": {}
      },
      "source": [
        ""
      ],
      "execution_count": 0,
      "outputs": []
    }
  ]
}