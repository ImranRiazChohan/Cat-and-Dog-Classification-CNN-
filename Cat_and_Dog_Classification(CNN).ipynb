{
  "nbformat": 4,
  "nbformat_minor": 0,
  "metadata": {
    "colab": {
      "name": "Cat and Dog Classification(CNN).ipynb",
      "provenance": [],
      "private_outputs": true,
      "collapsed_sections": [],
      "mount_file_id": "https://github.com/ImranRiazChohan/Cat-and-Dog-Classification-CNN-/blob/master/Cat_and_Dog_Classification(CNN).ipynb",
      "authorship_tag": "ABX9TyN8adfI0HDVLZ1LuSv9RXmm",
      "include_colab_link": true
    },
    "kernelspec": {
      "name": "python3",
      "display_name": "Python 3"
    },
    "accelerator": "GPU"
  },
  "cells": [
    {
      "cell_type": "markdown",
      "metadata": {
        "id": "view-in-github",
        "colab_type": "text"
      },
      "source": [
        "<a href=\"https://colab.research.google.com/github/ImranRiazChohan/Cat-and-Dog-Classification-CNN-/blob/master/Cat_and_Dog_Classification(CNN).ipynb\" target=\"_parent\"><img src=\"https://colab.research.google.com/assets/colab-badge.svg\" alt=\"Open In Colab\"/></a>"
      ]
    },
    {
      "cell_type": "code",
      "metadata": {
        "id": "VoEgbjsZRM4F",
        "colab_type": "code",
        "colab": {}
      },
      "source": [
        "import pandas as pd\n",
        "import numpy as np\n",
        "import tensorflow as tf\n",
        "from tensorflow.keras import models\n",
        "from tensorflow.keras import layers\n",
        "from tensorflow.keras.preprocessing import image\n",
        "from tensorflow.keras.preprocessing.image import ImageDataGenerator\n",
        "import matplotlib.pyplot as plt\n",
        "import os"
      ],
      "execution_count": 0,
      "outputs": []
    },
    {
      "cell_type": "code",
      "metadata": {
        "id": "bc6Vqhu7o83S",
        "colab_type": "code",
        "colab": {}
      },
      "source": [
        "import zipfile\n",
        "local_zip = '/content/drive/My Drive/cat-and-dog.zip'\n",
        "\n",
        "zip_ref = zipfile.ZipFile(local_zip, 'r')\n",
        "\n",
        "zip_ref.extractall('/content')\n",
        "zip_ref.close()"
      ],
      "execution_count": 0,
      "outputs": []
    },
    {
      "cell_type": "code",
      "metadata": {
        "id": "1uJ6jZbOqTov",
        "colab_type": "code",
        "colab": {}
      },
      "source": [
        "base_dir=\"/content/cat-and-dog\"\n",
        "test_dir=\"/content/test_set/test_set\"\n",
        "train_dir=\"/content/training_set/training_set\"\n"
      ],
      "execution_count": 0,
      "outputs": []
    },
    {
      "cell_type": "code",
      "metadata": {
        "id": "FcnVGBvDqfAs",
        "colab_type": "code",
        "colab": {}
      },
      "source": [
        "test_dir_cat=os.path.join(test_dir,\"cats\")\n",
        "test_dir_dog=os.path.join(test_dir,\"dogs\")\n",
        "\n",
        "train_dir_cat=os.path.join(train_dir,\"cats\")\n",
        "train_dir_dog=os.path.join(train_dir,\"dogs\")"
      ],
      "execution_count": 0,
      "outputs": []
    },
    {
      "cell_type": "code",
      "metadata": {
        "id": "WxUh4CKYXxov",
        "colab_type": "code",
        "colab": {}
      },
      "source": [
        "def Print_imagedata():\n",
        "  print(os.listdir(train_dir_cat))\n",
        "  print(os.listdir(train_dir_dog))\n",
        "  print(os.listdir(test_dir_dog))\n",
        "  print(os.listdir(test_dir_cat))\n",
        "  return \n",
        "def Print_lenOfImageData():\n",
        "  print(len(os.listdir(train_dir_cat)))\n",
        "  print(len(os.listdir(train_dir_dog)))\n",
        "  print(len(os.listdir(test_dir_dog)))\n",
        "  print(len(os.listdir(test_dir_cat)))\n",
        "  return "
      ],
      "execution_count": 0,
      "outputs": []
    },
    {
      "cell_type": "code",
      "metadata": {
        "id": "ehNJ6ENjYJ0-",
        "colab_type": "code",
        "colab": {}
      },
      "source": [
        "Print_imagedata()\n",
        "Print_lenOfImageData()"
      ],
      "execution_count": 0,
      "outputs": []
    },
    {
      "cell_type": "code",
      "metadata": {
        "id": "UhXYecNQZ7qh",
        "colab_type": "code",
        "colab": {}
      },
      "source": [
        "def Create_model():\n",
        "  model=models.Sequential()\n",
        "  model.add(layers.Conv2D(32,(3,3),activation=\"relu\",input_shape=(150,150,3)))\n",
        "  model.add(layers.MaxPool2D(2,2))\n",
        "  model.add(layers.Conv2D(64,(3,3),activation='relu'))\n",
        "  model.add(layers.MaxPool2D(2,2))\n",
        "  model.add(layers.Conv2D(128,(3,3),activation='relu'))\n",
        "  model.add(layers.MaxPool2D(2,2))\n",
        "  model.add(layers.Conv2D(128,(3,3),activation='relu'))\n",
        "\n",
        "  model.add(layers.Flatten())\n",
        "  model.add(layers.Dense(512,activation=\"relu\"))\n",
        "  model.add(layers.Dense(1,activation=\"sigmoid\"))\n",
        "  return model"
      ],
      "execution_count": 0,
      "outputs": []
    },
    {
      "cell_type": "code",
      "metadata": {
        "id": "t8AQqCOfbutm",
        "colab_type": "code",
        "colab": {}
      },
      "source": [
        "model=Create_model()\n",
        "model.summary()"
      ],
      "execution_count": 0,
      "outputs": []
    },
    {
      "cell_type": "code",
      "metadata": {
        "id": "qN6KyjuOb19L",
        "colab_type": "code",
        "colab": {}
      },
      "source": [
        "model.compile(tf.keras.optimizers.Adam(1e-4),tf.keras.losses.binary_crossentropy,metrics=['accuracy'])"
      ],
      "execution_count": 0,
      "outputs": []
    },
    {
      "cell_type": "code",
      "metadata": {
        "id": "OEnGaJjTcs8T",
        "colab_type": "code",
        "colab": {}
      },
      "source": [
        "train_datagen=ImageDataGenerator(rescale=1.0/255,rotation_range=40,\n",
        "            width_shift_range=0.2,height_shift_range=0.2,\n",
        "            shear_range=0.2,zoom_range=0.2,\n",
        "            horizontal_flip=True,fill_mode=\"nearest\")\n",
        "test_datagen=ImageDataGenerator(rescale=1.0/255)"
      ],
      "execution_count": 0,
      "outputs": []
    },
    {
      "cell_type": "code",
      "metadata": {
        "id": "v3BBNbjzeyVX",
        "colab_type": "code",
        "colab": {}
      },
      "source": [
        "train_gen=train_datagen.flow_from_directory(train_dir,batch_size=20,class_mode=\"binary\",target_size=(150,150))\n",
        "validation_gen=test_datagen.flow_from_directory(test_dir,batch_size=20,class_mode=\"binary\",target_size=(150,150))"
      ],
      "execution_count": 0,
      "outputs": []
    },
    {
      "cell_type": "code",
      "metadata": {
        "id": "eqC0gIJifgw3",
        "colab_type": "code",
        "colab": {}
      },
      "source": [
        "model.fit_generator(train_gen,epochs=20,steps_per_epoch=100,validation_data=validation_gen,validation_steps=20)"
      ],
      "execution_count": 0,
      "outputs": []
    },
    {
      "cell_type": "code",
      "metadata": {
        "id": "1biZrR-dgVve",
        "colab_type": "code",
        "colab": {}
      },
      "source": [
        ""
      ],
      "execution_count": 0,
      "outputs": []
    }
  ]
}